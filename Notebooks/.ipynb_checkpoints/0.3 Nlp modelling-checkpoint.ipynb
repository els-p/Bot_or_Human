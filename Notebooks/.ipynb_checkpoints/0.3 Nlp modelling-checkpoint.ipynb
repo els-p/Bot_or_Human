{
 "cells": [
  {
   "cell_type": "markdown",
   "metadata": {},
   "source": [
    "## 0.3 Bot or Human?: Binary Classification of Reddit Posts\n",
    "\n",
    "\n",
    "### Contents:\n",
    "- [Import Libraries](#Import-Libraries)\n",
    "- [Read in data scrapped from subreddits](#Read-in-data-scrapped-from-subreddits)\n",
    "- [Data Processing](#Data-Processing)\n",
    "- [NLP Modelling](#NLP-Modelling)\n",
    "- [Models Evaluation & Recommendation](#Models-Evaluation-&-Recommendation)"
   ]
  },
  {
   "cell_type": "markdown",
   "metadata": {},
   "source": [
    "## Import Libraries"
   ]
  },
  {
   "cell_type": "code",
   "execution_count": 1,
   "metadata": {},
   "outputs": [],
   "source": [
    "import requests\n",
    "import time\n",
    "import pandas as pd\n",
    "import numpy as np\n",
    "import string\n",
    "import matplotlib.pyplot as plt\n",
    "%matplotlib inline\n",
    "from sklearn.utils import shuffle\n",
    "from sklearn.model_selection import train_test_split, cross_val_score, GridSearchCV\n",
    "from sklearn.feature_extraction import text \n",
    "from sklearn.feature_extraction.text import CountVectorizer,TfidfVectorizer,HashingVectorizer\n",
    "from sklearn.naive_bayes import MultinomialNB, BernoulliNB, GaussianNB\n",
    "from sklearn.linear_model import LogisticRegression\n",
    "from sklearn.pipeline import Pipeline\n",
    "import warnings\n",
    "warnings.filterwarnings('ignore')"
   ]
  },
  {
   "cell_type": "markdown",
   "metadata": {},
   "source": [
    "## Read in data scrapped from subreddits"
   ]
  },
  {
   "cell_type": "code",
   "execution_count": 2,
   "metadata": {},
   "outputs": [],
   "source": [
    "df_bot = pd.read_csv('../Data/bot.csv')"
   ]
  },
  {
   "cell_type": "code",
   "execution_count": 3,
   "metadata": {},
   "outputs": [],
   "source": [
    "df_human = pd.read_csv('../Data/human.csv')"
   ]
  },
  {
   "cell_type": "markdown",
   "metadata": {},
   "source": [
    "## Data Processing"
   ]
  },
  {
   "cell_type": "markdown",
   "metadata": {},
   "source": [
    "A target column is created with binary values to classify posts under the bot subreddit as 1 and human subreddit, 0. "
   ]
  },
  {
   "cell_type": "code",
   "execution_count": 4,
   "metadata": {},
   "outputs": [],
   "source": [
    "#Categorises posts by indicting posts from Subredditsimulator as 1\n",
    "df_bot['bot'] = 1"
   ]
  },
  {
   "cell_type": "code",
   "execution_count": 5,
   "metadata": {},
   "outputs": [
    {
     "data": {
      "text/html": [
       "<div>\n",
       "<style scoped>\n",
       "    .dataframe tbody tr th:only-of-type {\n",
       "        vertical-align: middle;\n",
       "    }\n",
       "\n",
       "    .dataframe tbody tr th {\n",
       "        vertical-align: top;\n",
       "    }\n",
       "\n",
       "    .dataframe thead th {\n",
       "        text-align: right;\n",
       "    }\n",
       "</style>\n",
       "<table border=\"1\" class=\"dataframe\">\n",
       "  <thead>\n",
       "    <tr style=\"text-align: right;\">\n",
       "      <th></th>\n",
       "      <th>post_title</th>\n",
       "      <th>name</th>\n",
       "      <th>bot</th>\n",
       "    </tr>\n",
       "  </thead>\n",
       "  <tbody>\n",
       "    <tr>\n",
       "      <th>0</th>\n",
       "      <td>What is /r/SubredditSimulator?</td>\n",
       "      <td>t3_3g9ioz</td>\n",
       "      <td>1</td>\n",
       "    </tr>\n",
       "    <tr>\n",
       "      <th>1</th>\n",
       "      <td>Only bots can post in /r/SubredditSimulator, c...</td>\n",
       "      <td>t3_3g9k92</td>\n",
       "      <td>1</td>\n",
       "    </tr>\n",
       "    <tr>\n",
       "      <th>2</th>\n",
       "      <td>How much porn is the worst feeling</td>\n",
       "      <td>t3_ch78vw</td>\n",
       "      <td>1</td>\n",
       "    </tr>\n",
       "    <tr>\n",
       "      <th>3</th>\n",
       "      <td>New Colin Kaepernick was removed from historic...</td>\n",
       "      <td>t3_chhf3p</td>\n",
       "      <td>1</td>\n",
       "    </tr>\n",
       "    <tr>\n",
       "      <th>4</th>\n",
       "      <td>Albert Wesker (Resident Evil) vs Flood infecte...</td>\n",
       "      <td>t3_cgsxyt</td>\n",
       "      <td>1</td>\n",
       "    </tr>\n",
       "  </tbody>\n",
       "</table>\n",
       "</div>"
      ],
      "text/plain": [
       "                                          post_title       name  bot\n",
       "0                     What is /r/SubredditSimulator?  t3_3g9ioz    1\n",
       "1  Only bots can post in /r/SubredditSimulator, c...  t3_3g9k92    1\n",
       "2                 How much porn is the worst feeling  t3_ch78vw    1\n",
       "3  New Colin Kaepernick was removed from historic...  t3_chhf3p    1\n",
       "4  Albert Wesker (Resident Evil) vs Flood infecte...  t3_cgsxyt    1"
      ]
     },
     "execution_count": 5,
     "metadata": {},
     "output_type": "execute_result"
    }
   ],
   "source": [
    "df_bot.head()"
   ]
  },
  {
   "cell_type": "code",
   "execution_count": 6,
   "metadata": {},
   "outputs": [],
   "source": [
    "#Categorises posts by indicting posts from Showerthoughts as 0\n",
    "df_human['bot'] = 0"
   ]
  },
  {
   "cell_type": "code",
   "execution_count": 7,
   "metadata": {},
   "outputs": [
    {
     "data": {
      "text/html": [
       "<div>\n",
       "<style scoped>\n",
       "    .dataframe tbody tr th:only-of-type {\n",
       "        vertical-align: middle;\n",
       "    }\n",
       "\n",
       "    .dataframe tbody tr th {\n",
       "        vertical-align: top;\n",
       "    }\n",
       "\n",
       "    .dataframe thead th {\n",
       "        text-align: right;\n",
       "    }\n",
       "</style>\n",
       "<table border=\"1\" class=\"dataframe\">\n",
       "  <thead>\n",
       "    <tr style=\"text-align: right;\">\n",
       "      <th></th>\n",
       "      <th>post_title</th>\n",
       "      <th>name</th>\n",
       "      <th>bot</th>\n",
       "    </tr>\n",
       "  </thead>\n",
       "  <tbody>\n",
       "    <tr>\n",
       "      <th>0</th>\n",
       "      <td>Your Essential Guide to Showerthoughts</td>\n",
       "      <td>t3_bg71oh</td>\n",
       "      <td>0</td>\n",
       "    </tr>\n",
       "    <tr>\n",
       "      <th>1</th>\n",
       "      <td>The Quintessential Showerthought, Issue #1 - O...</td>\n",
       "      <td>t3_bpql00</td>\n",
       "      <td>0</td>\n",
       "    </tr>\n",
       "    <tr>\n",
       "      <th>2</th>\n",
       "      <td>The self check out is less about speed and con...</td>\n",
       "      <td>t3_chfosb</td>\n",
       "      <td>0</td>\n",
       "    </tr>\n",
       "    <tr>\n",
       "      <th>3</th>\n",
       "      <td>You could currently be living with a permanent...</td>\n",
       "      <td>t3_chexe6</td>\n",
       "      <td>0</td>\n",
       "    </tr>\n",
       "    <tr>\n",
       "      <th>4</th>\n",
       "      <td>Occasional sneezing would make movie character...</td>\n",
       "      <td>t3_chemvl</td>\n",
       "      <td>0</td>\n",
       "    </tr>\n",
       "  </tbody>\n",
       "</table>\n",
       "</div>"
      ],
      "text/plain": [
       "                                          post_title       name  bot\n",
       "0             Your Essential Guide to Showerthoughts  t3_bg71oh    0\n",
       "1  The Quintessential Showerthought, Issue #1 - O...  t3_bpql00    0\n",
       "2  The self check out is less about speed and con...  t3_chfosb    0\n",
       "3  You could currently be living with a permanent...  t3_chexe6    0\n",
       "4  Occasional sneezing would make movie character...  t3_chemvl    0"
      ]
     },
     "execution_count": 7,
     "metadata": {},
     "output_type": "execute_result"
    }
   ],
   "source": [
    "df_human.head()"
   ]
  },
  {
   "cell_type": "markdown",
   "metadata": {},
   "source": [
    "The datasets are then combined. The first two pinned posts lay out the rules of using the subreddit and are not actual posts. Hence i did not include them. "
   ]
  },
  {
   "cell_type": "code",
   "execution_count": 8,
   "metadata": {},
   "outputs": [],
   "source": [
    "#Combines all data scrapped into one frame, first two pinned posts on rules are note included\n",
    "df = pd.concat([df_bot[2:], df_human[2:]])"
   ]
  },
  {
   "cell_type": "markdown",
   "metadata": {},
   "source": [
    "Null cells are removed from the dataset. "
   ]
  },
  {
   "cell_type": "code",
   "execution_count": 9,
   "metadata": {},
   "outputs": [],
   "source": [
    "#Identifies posts with empty title as NaN\n",
    "df = df.replace('',np.nan)"
   ]
  },
  {
   "cell_type": "code",
   "execution_count": 10,
   "metadata": {},
   "outputs": [
    {
     "data": {
      "text/plain": [
       "post_title    0\n",
       "name          0\n",
       "bot           0\n",
       "dtype: int64"
      ]
     },
     "execution_count": 10,
     "metadata": {},
     "output_type": "execute_result"
    }
   ],
   "source": [
    "#Checks for NaN cells\n",
    "df.isnull().sum()"
   ]
  },
  {
   "cell_type": "markdown",
   "metadata": {},
   "source": [
    "To ensure the data is not imbalanced, I check for representation of catogories"
   ]
  },
  {
   "cell_type": "code",
   "execution_count": 11,
   "metadata": {},
   "outputs": [
    {
     "data": {
      "text/plain": [
       "1    850\n",
       "0    842\n",
       "Name: bot, dtype: int64"
      ]
     },
     "execution_count": 11,
     "metadata": {},
     "output_type": "execute_result"
    }
   ],
   "source": [
    "#Checks for representation of catogories\n",
    "df.bot.value_counts()"
   ]
  },
  {
   "cell_type": "markdown",
   "metadata": {},
   "source": [
    "To clean the data, I remove punctuation."
   ]
  },
  {
   "cell_type": "code",
   "execution_count": 12,
   "metadata": {},
   "outputs": [
    {
     "name": "stdout",
     "output_type": "stream",
     "text": [
      "!\"#$%&'()*+,-./:;<=>?@[\\]^_`{|}~\n"
     ]
    }
   ],
   "source": [
    "print(string.punctuation)"
   ]
  },
  {
   "cell_type": "code",
   "execution_count": 13,
   "metadata": {},
   "outputs": [],
   "source": [
    "#Captures punctuation that specifically escapes string.punctuation\n",
    "#Converts to lowercase\n",
    "df['post_title'] = df['post_title'].str.lower().str.replace('’',':').str.replace('‘',':').str.replace('“',':')  "
   ]
  },
  {
   "cell_type": "code",
   "execution_count": 14,
   "metadata": {},
   "outputs": [],
   "source": [
    "#Removes punctuation\n",
    "df['post_title_clean'] = df['post_title'].map(lambda x : ''.join(k for k in x if k not in string.punctuation))"
   ]
  },
  {
   "cell_type": "code",
   "execution_count": 15,
   "metadata": {},
   "outputs": [
    {
     "data": {
      "text/html": [
       "<div>\n",
       "<style scoped>\n",
       "    .dataframe tbody tr th:only-of-type {\n",
       "        vertical-align: middle;\n",
       "    }\n",
       "\n",
       "    .dataframe tbody tr th {\n",
       "        vertical-align: top;\n",
       "    }\n",
       "\n",
       "    .dataframe thead th {\n",
       "        text-align: right;\n",
       "    }\n",
       "</style>\n",
       "<table border=\"1\" class=\"dataframe\">\n",
       "  <thead>\n",
       "    <tr style=\"text-align: right;\">\n",
       "      <th></th>\n",
       "      <th>post_title</th>\n",
       "      <th>name</th>\n",
       "      <th>bot</th>\n",
       "      <th>post_title_clean</th>\n",
       "    </tr>\n",
       "  </thead>\n",
       "  <tbody>\n",
       "    <tr>\n",
       "      <th>2</th>\n",
       "      <td>how much porn is the worst feeling</td>\n",
       "      <td>t3_ch78vw</td>\n",
       "      <td>1</td>\n",
       "      <td>how much porn is the worst feeling</td>\n",
       "    </tr>\n",
       "    <tr>\n",
       "      <th>3</th>\n",
       "      <td>new colin kaepernick was removed from historic...</td>\n",
       "      <td>t3_chhf3p</td>\n",
       "      <td>1</td>\n",
       "      <td>new colin kaepernick was removed from historic...</td>\n",
       "    </tr>\n",
       "    <tr>\n",
       "      <th>4</th>\n",
       "      <td>albert wesker (resident evil) vs flood infecte...</td>\n",
       "      <td>t3_cgsxyt</td>\n",
       "      <td>1</td>\n",
       "      <td>albert wesker resident evil vs flood infected ...</td>\n",
       "    </tr>\n",
       "    <tr>\n",
       "      <th>5</th>\n",
       "      <td>reddit this is the sweetest thing</td>\n",
       "      <td>t3_chj7yw</td>\n",
       "      <td>1</td>\n",
       "      <td>reddit this is the sweetest thing</td>\n",
       "    </tr>\n",
       "    <tr>\n",
       "      <th>6</th>\n",
       "      <td>the affair between r.m. and mr. dressup - toro...</td>\n",
       "      <td>t3_chfg34</td>\n",
       "      <td>1</td>\n",
       "      <td>the affair between rm and mr dressup  toronto ...</td>\n",
       "    </tr>\n",
       "  </tbody>\n",
       "</table>\n",
       "</div>"
      ],
      "text/plain": [
       "                                          post_title       name  bot  \\\n",
       "2                 how much porn is the worst feeling  t3_ch78vw    1   \n",
       "3  new colin kaepernick was removed from historic...  t3_chhf3p    1   \n",
       "4  albert wesker (resident evil) vs flood infecte...  t3_cgsxyt    1   \n",
       "5                  reddit this is the sweetest thing  t3_chj7yw    1   \n",
       "6  the affair between r.m. and mr. dressup - toro...  t3_chfg34    1   \n",
       "\n",
       "                                    post_title_clean  \n",
       "2                 how much porn is the worst feeling  \n",
       "3  new colin kaepernick was removed from historic...  \n",
       "4  albert wesker resident evil vs flood infected ...  \n",
       "5                  reddit this is the sweetest thing  \n",
       "6  the affair between rm and mr dressup  toronto ...  "
      ]
     },
     "execution_count": 15,
     "metadata": {},
     "output_type": "execute_result"
    }
   ],
   "source": [
    "df.head()"
   ]
  },
  {
   "cell_type": "markdown",
   "metadata": {},
   "source": [
    "The dataset is first shuffled before splitting into training and testing sets to make sure that the sets are representative of the overall distribution of the data and not imbalanced. "
   ]
  },
  {
   "cell_type": "code",
   "execution_count": 16,
   "metadata": {},
   "outputs": [
    {
     "data": {
      "text/html": [
       "<div>\n",
       "<style scoped>\n",
       "    .dataframe tbody tr th:only-of-type {\n",
       "        vertical-align: middle;\n",
       "    }\n",
       "\n",
       "    .dataframe tbody tr th {\n",
       "        vertical-align: top;\n",
       "    }\n",
       "\n",
       "    .dataframe thead th {\n",
       "        text-align: right;\n",
       "    }\n",
       "</style>\n",
       "<table border=\"1\" class=\"dataframe\">\n",
       "  <thead>\n",
       "    <tr style=\"text-align: right;\">\n",
       "      <th></th>\n",
       "      <th>post_title</th>\n",
       "      <th>name</th>\n",
       "      <th>bot</th>\n",
       "      <th>post_title_clean</th>\n",
       "    </tr>\n",
       "  </thead>\n",
       "  <tbody>\n",
       "    <tr>\n",
       "      <th>0</th>\n",
       "      <td>d&amp;amp;d is more and sough after now than in th...</td>\n",
       "      <td>t3_chdtxx</td>\n",
       "      <td>0</td>\n",
       "      <td>dampd is more and sough after now than in the 80s</td>\n",
       "    </tr>\n",
       "    <tr>\n",
       "      <th>1</th>\n",
       "      <td>masochist females must really enjoy their periods</td>\n",
       "      <td>t3_chj2ta</td>\n",
       "      <td>0</td>\n",
       "      <td>masochist females must really enjoy their periods</td>\n",
       "    </tr>\n",
       "    <tr>\n",
       "      <th>2</th>\n",
       "      <td>there is a good chance amazon would not have g...</td>\n",
       "      <td>t3_chi23k</td>\n",
       "      <td>0</td>\n",
       "      <td>there is a good chance amazon would not have g...</td>\n",
       "    </tr>\n",
       "    <tr>\n",
       "      <th>3</th>\n",
       "      <td>mathematically \"an eye for an eye leaves the w...</td>\n",
       "      <td>t3_che9gd</td>\n",
       "      <td>0</td>\n",
       "      <td>mathematically an eye for an eye leaves the wh...</td>\n",
       "    </tr>\n",
       "    <tr>\n",
       "      <th>4</th>\n",
       "      <td>catty revenge on a kid playing fortnite</td>\n",
       "      <td>t3_cav13p</td>\n",
       "      <td>1</td>\n",
       "      <td>catty revenge on a kid playing fortnite</td>\n",
       "    </tr>\n",
       "  </tbody>\n",
       "</table>\n",
       "</div>"
      ],
      "text/plain": [
       "                                          post_title       name  bot  \\\n",
       "0  d&amp;d is more and sough after now than in th...  t3_chdtxx    0   \n",
       "1  masochist females must really enjoy their periods  t3_chj2ta    0   \n",
       "2  there is a good chance amazon would not have g...  t3_chi23k    0   \n",
       "3  mathematically \"an eye for an eye leaves the w...  t3_che9gd    0   \n",
       "4            catty revenge on a kid playing fortnite  t3_cav13p    1   \n",
       "\n",
       "                                    post_title_clean  \n",
       "0  dampd is more and sough after now than in the 80s  \n",
       "1  masochist females must really enjoy their periods  \n",
       "2  there is a good chance amazon would not have g...  \n",
       "3  mathematically an eye for an eye leaves the wh...  \n",
       "4            catty revenge on a kid playing fortnite  "
      ]
     },
     "execution_count": 16,
     "metadata": {},
     "output_type": "execute_result"
    }
   ],
   "source": [
    "#Shuffles dataset before modelling\n",
    "df = shuffle(df)\n",
    "df.reset_index(drop=True, inplace=True)\n",
    "df.head()"
   ]
  },
  {
   "cell_type": "markdown",
   "metadata": {},
   "source": [
    "## NLP Modelling\n",
    "Posts title chosen as features in design metrics. \n",
    "<br>Model target is the 'bot' column which indicates if post is from Subredditsimulator (is bot i.e. 1) or Showerthoughts (is not bot i.e. 0)"
   ]
  },
  {
   "cell_type": "code",
   "execution_count": 17,
   "metadata": {},
   "outputs": [],
   "source": [
    "X = df['post_title_clean']\n",
    "y = df['bot']"
   ]
  },
  {
   "cell_type": "code",
   "execution_count": 18,
   "metadata": {},
   "outputs": [],
   "source": [
    "#Splits data into training and testing datasets\n",
    "X_train, X_test, y_train, y_test = train_test_split(X,y,test_size=0.3,random_state=42,stratify=y)"
   ]
  },
  {
   "cell_type": "markdown",
   "metadata": {},
   "source": [
    "<b>The following classifiers are tested:\n",
    "    <br>\n",
    "<br>(1) Multinomial Naive Bayes (MNB) Classifier\n",
    "<br>(2) Bernoulli Naive Bayes (BNB) Classifier\n",
    "<br>(3) Logistic Regression (LR) Classifier</b>"
   ]
  },
  {
   "cell_type": "code",
   "execution_count": 19,
   "metadata": {},
   "outputs": [],
   "source": [
    "estimators = {'nb': MultinomialNB(),'bn': BernoulliNB(),'lr': LogisticRegression()}.items()"
   ]
  },
  {
   "cell_type": "markdown",
   "metadata": {},
   "source": [
    "## Count Vectorizer \n",
    "\n",
    "Converts texts from post titles to a matrix of token counts."
   ]
  },
  {
   "cell_type": "markdown",
   "metadata": {},
   "source": [
    "I tested the classifiers on top 500 features and filter for top common words in english. I also tested with all features and finally with added stop words. "
   ]
  },
  {
   "cell_type": "code",
   "execution_count": 20,
   "metadata": {},
   "outputs": [
    {
     "name": "stdout",
     "output_type": "stream",
     "text": [
      "nb score: 0.8277027027027027\n",
      "bn score: 0.8209459459459459\n",
      "lr score: 0.856418918918919\n"
     ]
    }
   ],
   "source": [
    "for k,v in estimators:\n",
    "    pipe = Pipeline([\n",
    "        ('cvec', CountVectorizer(max_features = 500, stop_words = 'english')),\n",
    "        (k,v)])\n",
    "    print('{} score: {}'.format(k, pipe.fit(X_train,y_train).score(X_train,y_train)))"
   ]
  },
  {
   "cell_type": "code",
   "execution_count": 21,
   "metadata": {},
   "outputs": [
    {
     "name": "stdout",
     "output_type": "stream",
     "text": [
      "nb score: 0.9670608108108109\n",
      "bn score: 0.972972972972973\n",
      "lr score: 0.9932432432432432\n"
     ]
    }
   ],
   "source": [
    "for k,v in estimators:\n",
    "    pipe = Pipeline([\n",
    "        ('cvec', CountVectorizer(stop_words = 'english')),\n",
    "        (k,v)])\n",
    "    print('{} score: {}'.format(k, pipe.fit(X_train,y_train).score(X_train,y_train)))"
   ]
  },
  {
   "cell_type": "markdown",
   "metadata": {},
   "source": [
    "Some top common words that were the same between the Subreddits were removed as they would not help in classifying posts (refer to 0.2 EDA notebook)."
   ]
  },
  {
   "cell_type": "code",
   "execution_count": 22,
   "metadata": {},
   "outputs": [],
   "source": [
    "my_additional_stop_words = ['like','just','time', 'dont','know','people','life','years','good']"
   ]
  },
  {
   "cell_type": "code",
   "execution_count": 23,
   "metadata": {},
   "outputs": [
    {
     "name": "stdout",
     "output_type": "stream",
     "text": [
      "nb score: 0.972972972972973,0.702755905511811\n",
      "bn score: 0.9738175675675675,0.6988188976377953\n",
      "lr score: 0.9940878378378378,0.702755905511811\n"
     ]
    }
   ],
   "source": [
    "for k,v in estimators:\n",
    "    pipe = Pipeline([\n",
    "        ('cvec', CountVectorizer(stop_words = text.ENGLISH_STOP_WORDS.union(my_additional_stop_words))),\n",
    "        (k,v)])\n",
    "    print('{} score: {},{}'.format(k, pipe.fit(X_train,y_train).score(X_train,y_train),pipe.fit(X_train,y_train).score(X_test,y_test)))"
   ]
  },
  {
   "cell_type": "markdown",
   "metadata": {},
   "source": [
    "I found the best performance with no max feature constraint and added stop words."
   ]
  },
  {
   "cell_type": "markdown",
   "metadata": {},
   "source": [
    "## TFidf Vectorizer\n",
    "Converts texts from post titles to a matrix of term frequency–inverse document frequency features. This numerical statistic reflects the importance a word to the collection of words."
   ]
  },
  {
   "cell_type": "markdown",
   "metadata": {},
   "source": [
    "Replicating the above, the same classifers were tested with features tokenised using term frequency."
   ]
  },
  {
   "cell_type": "code",
   "execution_count": 24,
   "metadata": {},
   "outputs": [
    {
     "name": "stdout",
     "output_type": "stream",
     "text": [
      "nb score: 0.9847972972972973,0.687007874015748\n",
      "bn score: 0.9738175675675675,0.6988188976377953\n",
      "lr score: 0.9847972972972973,0.7125984251968503\n"
     ]
    }
   ],
   "source": [
    "for k,v in estimators:\n",
    "    pipe = Pipeline([\n",
    "        ('tvec', TfidfVectorizer(stop_words = text.ENGLISH_STOP_WORDS.union(my_additional_stop_words))),\n",
    "        (k,v)])\n",
    "    print('{} score: {},{}'.format(k, pipe.fit(X_train,y_train).score(X_train,y_train),pipe.fit(X_train,y_train).score(X_test,y_test)))"
   ]
  },
  {
   "cell_type": "markdown",
   "metadata": {},
   "source": [
    "## Models Evaluation & Recommendation"
   ]
  },
  {
   "cell_type": "markdown",
   "metadata": {},
   "source": [
    "<b> Comparing all the model scores, TVEC-LR is the best performing model. I then run a gridsearch to check if introduction of penalty through Ridge/ Lasso Regression improves model performance. \n",
    "</b>"
   ]
  },
  {
   "cell_type": "code",
   "execution_count": 25,
   "metadata": {},
   "outputs": [],
   "source": [
    "#Using GridSearchCV to find best parameters for HVEC-LR model\n",
    "params_grid = {\n",
    "    'penalty': ['l1', 'l2'],\n",
    "    'C': np.logspace(-4, 0, 40)\n",
    "}\n",
    "\n",
    "lr_gridsearch = GridSearchCV(\n",
    "    LogisticRegression(),\n",
    "    params_grid,\n",
    "    cv=5,\n",
    "    n_jobs=-1,\n",
    "    verbose=1,\n",
    ")"
   ]
  },
  {
   "cell_type": "code",
   "execution_count": 26,
   "metadata": {},
   "outputs": [],
   "source": [
    "tvec = TfidfVectorizer(stop_words = text.ENGLISH_STOP_WORDS.union(my_additional_stop_words))\n",
    "X_train_tvec = tvec.fit_transform(X_train)\n",
    "X_test_tvec = tvec.transform(X_test)"
   ]
  },
  {
   "cell_type": "code",
   "execution_count": 27,
   "metadata": {},
   "outputs": [
    {
     "name": "stdout",
     "output_type": "stream",
     "text": [
      "Fitting 5 folds for each of 80 candidates, totalling 400 fits\n"
     ]
    },
    {
     "name": "stderr",
     "output_type": "stream",
     "text": [
      "[Parallel(n_jobs=-1)]: Using backend LokyBackend with 4 concurrent workers.\n",
      "[Parallel(n_jobs=-1)]: Done 100 tasks      | elapsed:    5.2s\n",
      "[Parallel(n_jobs=-1)]: Done 400 out of 400 | elapsed:    5.8s finished\n"
     ]
    }
   ],
   "source": [
    "lr_gridsearch = lr_gridsearch.fit(X_train_tvec, y_train)"
   ]
  },
  {
   "cell_type": "code",
   "execution_count": 28,
   "metadata": {},
   "outputs": [
    {
     "data": {
      "text/plain": [
       "0.7303149606299213"
      ]
     },
     "execution_count": 28,
     "metadata": {},
     "output_type": "execute_result"
    }
   ],
   "source": [
    "#find the best LR and its score on testing data\n",
    "best_lr = lr_gridsearch.best_estimator_\n",
    "best_lr.score(X_test_tvec, y_test)"
   ]
  },
  {
   "cell_type": "code",
   "execution_count": 29,
   "metadata": {},
   "outputs": [
    {
     "data": {
      "text/plain": [
       "{'C': 0.11937766417144358, 'penalty': 'l2'}"
      ]
     },
     "execution_count": 29,
     "metadata": {},
     "output_type": "execute_result"
    }
   ],
   "source": [
    "#GridSearchCV throws out penalty through Lasso at alpha = 0.0587\n",
    "lr_gridsearch.best_params_"
   ]
  },
  {
   "cell_type": "code",
   "execution_count": 30,
   "metadata": {},
   "outputs": [
    {
     "data": {
      "text/plain": [
       "<matplotlib.axes._subplots.AxesSubplot at 0x108ed9a20>"
      ]
     },
     "execution_count": 30,
     "metadata": {},
     "output_type": "execute_result"
    },
    {
     "data": {
      "image/png": "[encoded data removed]",
      "text/plain": [
       "<Figure size 432x288 with 1 Axes>"
      ]
     },
     "metadata": {
      "needs_background": "light"
     },
     "output_type": "display_data"
    }
   ],
   "source": [
    "df = pd.DataFrame(lr_gridsearch.cv_results_)\n",
    "df = df[df['param_penalty'] == 'l2']\n",
    "df.plot(x='param_C', y='mean_test_score')"
   ]
  },
  {
   "cell_type": "markdown",
   "metadata": {},
   "source": [
    "<br>Introducing penalty does not seem to improve the model. \n",
    "<br>\n",
    "<br><b>Hence, in summary, best performing model to use is the Mutinomial Naive Bayes Classifier. Hash vectoriser should be used to preprocess data before passing into model for predictions. </b>\n",
    "\n"
   ]
  }
 ],
 "metadata": {
  "kernelspec": {
   "display_name": "Python 3",
   "language": "python",
   "name": "python3"
  },
  "language_info": {
   "codemirror_mode": {
    "name": "ipython",
    "version": 3
   },
   "file_extension": ".py",
   "mimetype": "text/x-python",
   "name": "python",
   "nbconvert_exporter": "python",
   "pygments_lexer": "ipython3",
   "version": "3.7.3"
  }
 },
 "nbformat": 4,
 "nbformat_minor": 2
}
