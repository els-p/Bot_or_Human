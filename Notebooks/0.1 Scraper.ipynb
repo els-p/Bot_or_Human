{
 "cells": [
  {
   "cell_type": "markdown",
   "metadata": {},
   "source": [
    "## 0.1 Bot or Human?: Reddit Scraper\n",
    "Get posts from two subreddit threads: \n",
    "<br>(1) [SubredditsSimulator](https://www.reddit.com/r/SubredditSimulator/) and;\n",
    "<br>(2)  [Showerthoughts](https://www.reddit.com/r/Showerthoughts/)\n",
    "\n",
    "### Contents:\n",
    "- [Import Libraries](#Import-Libraries)\n",
    "- [Get posts from SubredditSimulator](#Get-posts-from-SubredditSimulator)\n",
    "- [Get posts from Showerthoughts](#Get-posts-from-Showerthoughts)"
   ]
  },
  {
   "cell_type": "markdown",
   "metadata": {},
   "source": [
    "## Import Libraries"
   ]
  },
  {
   "cell_type": "code",
   "execution_count": 1,
   "metadata": {},
   "outputs": [],
   "source": [
    "import requests\n",
    "import time\n",
    "import pandas as pd\n",
    "import numpy as np"
   ]
  },
  {
   "cell_type": "markdown",
   "metadata": {},
   "source": [
    "## Get posts from SubredditSimulator\n",
    "\n",
    "Only titles of posts and name of users are saved to csv file"
   ]
  },
  {
   "cell_type": "code",
   "execution_count": 2,
   "metadata": {},
   "outputs": [],
   "source": [
    "header = {'User-agent': 'ep 0.1.1'}"
   ]
  },
  {
   "cell_type": "code",
   "execution_count": 3,
   "metadata": {},
   "outputs": [
    {
     "name": "stdout",
     "output_type": "stream",
     "text": [
      "Successfully scrapped 852 unique posts\n"
     ]
    }
   ],
   "source": [
    "posts = []\n",
    "after = None\n",
    "for i in range(34):\n",
    "    if after == None:\n",
    "        param = {}\n",
    "    else:\n",
    "        param = {'after': after}\n",
    "    url = 'https://www.reddit.com/r/SubredditSimulator/.json'\n",
    "    results = requests.get(url, params=param, headers=header)\n",
    "    if results.status_code == 200:\n",
    "        res_json = results.json()\n",
    "        posts.extend(res_json['data']['children'])\n",
    "        after = res_json['data']['after']\n",
    "    else:\n",
    "        print(results.status_code)\n",
    "        break\n",
    "    time.sleep(1)\n",
    "#Records only posts from unique users\n",
    "posts = pd.DataFrame(posts)\n",
    "lst = {}\n",
    "lst['post_title'] =[]\n",
    "lst['name'] =[]\n",
    "for i in posts['data']:\n",
    "    if i['name'] not in lst['name']:\n",
    "        lst['post_title'].append(i['title'])\n",
    "        lst['name'].append(i['name'])\n",
    "\n",
    "print('Successfully scrapped {} unique posts'.format(len(lst['post_title'])))\n",
    "scrapped_bot = pd.DataFrame(lst)"
   ]
  },
  {
   "cell_type": "code",
   "execution_count": 4,
   "metadata": {},
   "outputs": [
    {
     "name": "stdout",
     "output_type": "stream",
     "text": [
      "File saved as \"bot.csv\" in Data folder\n"
     ]
    }
   ],
   "source": [
    "scrapped_bot.to_csv('../Data/bot.csv', index=False)\n",
    "print('File saved as \"bot.csv\" in Data folder')"
   ]
  },
  {
   "cell_type": "markdown",
   "metadata": {},
   "source": [
    "## Get posts from Showerthoughts\n",
    "\n",
    "Only titles of posts and name of users are saved to csv file"
   ]
  },
  {
   "cell_type": "code",
   "execution_count": 5,
   "metadata": {},
   "outputs": [
    {
     "name": "stdout",
     "output_type": "stream",
     "text": [
      "Successfully scrapped 859 unique posts\n"
     ]
    }
   ],
   "source": [
    "posts = []\n",
    "after = None\n",
    "for i in range(40):\n",
    "    if after == None:\n",
    "        param = {}\n",
    "    else:\n",
    "        param = {'after': after}\n",
    "    url = 'https://www.reddit.com/r/Showerthoughts/.json'\n",
    "    results = requests.get(url, params=param, headers=header)\n",
    "    if results.status_code == 200:\n",
    "        res_json = results.json()\n",
    "        posts.extend(res_json['data']['children'])\n",
    "        after = res_json['data']['after']\n",
    "    else:\n",
    "        print(results.status_code)\n",
    "        break\n",
    "    time.sleep(1)\n",
    "\n",
    "#Records only posts from unique users\n",
    "posts = pd.DataFrame(posts)\n",
    "lst = {}\n",
    "lst['post_title'] =[]\n",
    "lst['name'] =[]\n",
    "for i in posts['data']:\n",
    "    if i['name'] not in lst['name']:\n",
    "        lst['post_title'].append(i['title'])\n",
    "        lst['name'].append(i['name'])\n",
    "\n",
    "print('Successfully scrapped {} unique posts'.format(len(lst['post_title'])))\n",
    "scrapped_human = pd.DataFrame(lst)"
   ]
  },
  {
   "cell_type": "code",
   "execution_count": 6,
   "metadata": {},
   "outputs": [
    {
     "name": "stdout",
     "output_type": "stream",
     "text": [
      "File saved as \"human.csv\" in Data folder\n"
     ]
    }
   ],
   "source": [
    "scrapped_human.to_csv('../Data/human.csv', index=False)\n",
    "print('File saved as \"human.csv\" in Data folder')"
   ]
  },
  {
   "cell_type": "code",
   "execution_count": null,
   "metadata": {},
   "outputs": [],
   "source": []
  }
 ],
 "metadata": {
  "kernelspec": {
   "display_name": "Python 3",
   "language": "python",
   "name": "python3"
  },
  "language_info": {
   "codemirror_mode": {
    "name": "ipython",
    "version": 3
   },
   "file_extension": ".py",
   "mimetype": "text/x-python",
   "name": "python",
   "nbconvert_exporter": "python",
   "pygments_lexer": "ipython3",
   "version": "3.7.3"
  }
 },
 "nbformat": 4,
 "nbformat_minor": 2
}
